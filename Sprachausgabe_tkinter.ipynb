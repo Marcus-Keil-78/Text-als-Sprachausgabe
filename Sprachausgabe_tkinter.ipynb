{
 "cells": [
  {
   "cell_type": "code",
   "execution_count": 17,
   "metadata": {},
   "outputs": [
    {
     "name": "stdout",
     "output_type": "stream",
     "text": [
      "fertig\n"
     ]
    }
   ],
   "source": [
    "import gtts, os, subprocess\n",
    "import tkinter as tk\n",
    "from tkinter import ttk\n",
    "from tkinter import messagebox\n",
    "from PIL import Image, ImageTk\n",
    "print(\"fertig\")"
   ]
  },
  {
   "cell_type": "code",
   "execution_count": 18,
   "metadata": {},
   "outputs": [
    {
     "name": "stdout",
     "output_type": "stream",
     "text": [
      "fertig\n"
     ]
    }
   ],
   "source": [
    "pro_version=\"1.0\"\n",
    "print(\"fertig\")"
   ]
  },
  {
   "cell_type": "code",
   "execution_count": 19,
   "metadata": {},
   "outputs": [],
   "source": [
    "# farben\n",
    "hintergrundfarbe=\"#b0e0e6\"#\"#FFDEAD\""
   ]
  },
  {
   "cell_type": "code",
   "execution_count": 20,
   "metadata": {},
   "outputs": [],
   "source": [
    "programmerklaerung = \"Mit diesem Programm wird ein Text\\nin eine Audiodatei umgewandelt.\""
   ]
  },
  {
   "cell_type": "code",
   "execution_count": 21,
   "metadata": {},
   "outputs": [
    {
     "name": "stdout",
     "output_type": "stream",
     "text": [
      "fertig\n"
     ]
    }
   ],
   "source": [
    "#fenster\n",
    "win=tk.Tk()\n",
    "win.geometry(\"500x510\")\n",
    "win.resizable(0,0)\n",
    "win.title(f'Text in Sprache - Version {pro_version}')\n",
    "win.configure(bg=hintergrundfarbe)\n",
    "print(\"fertig\")"
   ]
  },
  {
   "cell_type": "code",
   "execution_count": 22,
   "metadata": {},
   "outputs": [],
   "source": [
    "# bild\n",
    "pic_file = Image.open(r\"C:\\Users\\mkeil\\Desktop\\Sprachausgabe_Tkinter\\bild.png\").resize((120,70))\n",
    "pic = ImageTk.PhotoImage(pic_file)\n",
    "\n",
    "image_label = tk.Label(win, image=pic,\n",
    "                       bg=hintergrundfarbe)"
   ]
  },
  {
   "cell_type": "code",
   "execution_count": 23,
   "metadata": {},
   "outputs": [],
   "source": [
    "# kurzerklärung des Programmes\n",
    "kurzerklaerung_label = tk.Label(win, text=programmerklaerung,\n",
    "                                font=(\"Helvetica\",12,\"bold\"),\n",
    "                                bg=hintergrundfarbe)"
   ]
  },
  {
   "cell_type": "code",
   "execution_count": 24,
   "metadata": {},
   "outputs": [
    {
     "name": "stdout",
     "output_type": "stream",
     "text": [
      "fertig\n"
     ]
    }
   ],
   "source": [
    "# Dateiname eingeben\n",
    "dateiname_label = tk.Label(win, text=\"Dateiname:\",\n",
    "                           bg=hintergrundfarbe)\n",
    "dateiname_eingabe = tk.Entry(win)\n",
    "dateiname_eingabe.insert(0, \"Sound\")\n",
    "print(\"fertig\")"
   ]
  },
  {
   "cell_type": "code",
   "execution_count": 25,
   "metadata": {},
   "outputs": [
    {
     "name": "stdout",
     "output_type": "stream",
     "text": [
      "fertig\n"
     ]
    }
   ],
   "source": [
    "# eingabe feld\n",
    "textfeld_label = tk.Label(win, text=\"Eingabefenster für Sprachnachricht\",\n",
    "                          bg=hintergrundfarbe)\n",
    "textfeld_eingabe = tk.Text(win, width=40, height=10)\n",
    "textfeld_eingabe.insert(tk.END, \"Schreiben Sie hier Ihren Text\")\n",
    "scrollbar = tk.Scrollbar(win)\n",
    "textfeld_eingabe.config(yscrollcommand=scrollbar.set)\n",
    "scrollbar.config(command=textfeld_eingabe.yview)\n",
    "print(\"fertig\")"
   ]
  },
  {
   "cell_type": "code",
   "execution_count": 26,
   "metadata": {},
   "outputs": [
    {
     "name": "stdout",
     "output_type": "stream",
     "text": [
      "fertig\n"
     ]
    }
   ],
   "source": [
    "# pfad\n",
    "ordnername=\"Sprachausgabe\"\n",
    "PATH=f\"C:/Users/{os.getlogin()}/Desktop/{ordnername}/\"\n",
    "print(\"fertig\")"
   ]
  },
  {
   "cell_type": "code",
   "execution_count": 27,
   "metadata": {},
   "outputs": [
    {
     "name": "stdout",
     "output_type": "stream",
     "text": [
      "fertig\n"
     ]
    }
   ],
   "source": [
    "# funktion\n",
    "def audio_erstellen():\n",
    "    if dateiname_eingabe.get() != \"\":\n",
    "        try:\n",
    "            myobj=gtts.gTTS(text=textfeld_eingabe.get('1.0', 'end'), lang='de', slow=False, tld=\"DE\")\n",
    "            myobj.save(f\"{PATH}{dateiname_eingabe.get()}.mp3\")\n",
    "            messagebox.showinfo(\"Info\", f'Datei \"{dateiname_eingabe.get()}.mp3\" erfolgreich erstellt.')\n",
    "        except:\n",
    "            messagebox.showerror(\"Info\", \"Kein Text für die Sprachausgabe eingegeben!\\n\\nBitte einen Text eingeben!\")\n",
    "    else:\n",
    "        messagebox.showwarning(\"Dateiname\", \"Bitte Dateiname eingeben!\")\n",
    "\n",
    "def ausgabe_erstellen():\n",
    "    if not os.path.exists(PATH):\n",
    "        os.makedirs(PATH)\n",
    "    \n",
    "    if not os.path.exists(f\"{PATH}{dateiname_eingabe.get()}.mp3\"):\n",
    "        audio_erstellen()\n",
    "            \n",
    "    elif os.path.exists(f\"{PATH}{dateiname_eingabe.get()}.mp3\"): \n",
    "        if messagebox.askyesno(\"Datei vorhanden\", f'Soll die Datei \"{dateiname_eingabe.get()}.mp3\" überschrieben werden?'):\n",
    "            audio_erstellen()\n",
    "    \n",
    "def eingabe_loeschen():\n",
    "    textfeld_eingabe.delete('0.0', 'end')\n",
    "    textfeld_eingabe.insert(tk.END, \"Schreiben Sie hier Ihren Text\")\n",
    "    dateiname_eingabe.delete(0, tk.END)\n",
    "    dateiname_eingabe.insert(0, \"Sound\")\n",
    "    \n",
    "def textfeld_loeschen():\n",
    "    textfeld_eingabe.delete('0.0', 'end')\n",
    "    \n",
    "def ordner_oeffnen():\n",
    "    user_folder = os.path.expanduser(\"~\")\n",
    "    folder_path = os.path.join(user_folder, \"Desktop\", ordnername)\n",
    "    if os.path.exists(PATH):\n",
    "        if os.name == 'nt':  # Windows\n",
    "            command = f'explorer \"{folder_path}\"'\n",
    "            subprocess.Popen(command, shell=True)\n",
    "        else:  # macOS\n",
    "            subprocess.Popen(['open', folder_path])\n",
    "    else:\n",
    "        messagebox.showerror(\"Error\", \"Ordner existiert nicht\")\n",
    "print(\"fertig\")"
   ]
  },
  {
   "cell_type": "code",
   "execution_count": 28,
   "metadata": {},
   "outputs": [
    {
     "name": "stdout",
     "output_type": "stream",
     "text": [
      "fertig\n"
     ]
    }
   ],
   "source": [
    "# Weiters Fenster für Informationen durch die Datei->Erklaerung.txt\n",
    "def erklaerung_fenster():\n",
    "    class TextScrollCombo(ttk.Frame):\n",
    "\n",
    "        def __init__(self, *args, **kwargs):\n",
    "\n",
    "            super().__init__(*args, **kwargs)\n",
    "\n",
    "        # ensure a consistent GUI size\n",
    "            self.grid_propagate(False)\n",
    "        # implement stretchability\n",
    "            self.grid_rowconfigure(0, weight=1)\n",
    "            self.grid_columnconfigure(0, weight=1)\n",
    "\n",
    "        # create a Text widget\n",
    "            self.txt = tk.Text(self)\n",
    "            self.txt.grid(row=0, column=0, sticky=\"nsew\", padx=2, pady=2)\n",
    "\n",
    "        # create a Scrollbar and associate it with txt\n",
    "            scrollb = ttk.Scrollbar(self, command=self.txt.yview)\n",
    "            scrollb.grid(row=0, column=1, sticky='nsew')\n",
    "            self.txt['yscrollcommand'] = scrollb.set\n",
    "\n",
    "    app = tk.Tk()\n",
    "    app.geometry('800x600')#größe festlege\n",
    "    app.resizable(width=0, height=0)#größenänderung gesperrt\n",
    "    app.configure(bg=hintergrundfarbe)\n",
    "    app.title(f\"Zusatzinformation\") #Titel für das Programmfenster\n",
    "\n",
    "    combo = TextScrollCombo(app)\n",
    "    combo.pack(fill=\"both\", expand=True,padx=10,pady=10)\n",
    "    combo.config(width=400, height=400)\n",
    "\n",
    "    combo.txt.config(font=(\"consolas\", 12), undo=True, wrap='word')\n",
    "    combo.txt.config(borderwidth=3, relief=\"sunken\")\n",
    "    with open(\"Erklaerung.txt\", \"r\", encoding=\"utf-8\") as file:\n",
    "        combo.txt.insert(tk.END, file.read())\n",
    "    #combo.txt.insert(tk.END, \"\\n\".join(open(\"Erklaerung.txt\",\"r\").readlines()))\n",
    "\n",
    "    style = ttk.Style()\n",
    "    style.theme_use('clam')\n",
    "\n",
    "    button_close=tk.Button(app,text=\"OK - Verstanden\",\n",
    "                        font=(\"Helvetica\",12,\"bold\"),\n",
    "                        command=app.destroy).pack(side='bottom',padx=10,pady=10)\n",
    "\n",
    "    app.mainloop()\n",
    "print(\"fertig\")"
   ]
  },
  {
   "cell_type": "code",
   "execution_count": 29,
   "metadata": {},
   "outputs": [
    {
     "name": "stdout",
     "output_type": "stream",
     "text": [
      "fertig\n"
     ]
    }
   ],
   "source": [
    "# buttons\n",
    "create_button = tk.Button(text=\"Erstellen\",\n",
    "                          command=ausgabe_erstellen)\n",
    "\n",
    "close_button = tk.Button(text=\"Schließen\",\n",
    "                         command=win.destroy)\n",
    "\n",
    "textfeld_loeschen_button = tk.Button(text=\"Eingaben\\nzurücksetzen\",\n",
    "                         command=eingabe_loeschen)\n",
    "\n",
    "erklaerung_fenster_button = tk.Button(text=\"Erklärung\",\n",
    "                         command=erklaerung_fenster)\n",
    "\n",
    "ordner_oeffnen_button = tk.Button(text=\"Ordner öffnen\",\n",
    "                         command=ordner_oeffnen)\n",
    "\n",
    "eingabefeld_loeschen_button = tk.Button(text=\"Eingabefenster\\nleeren\",\n",
    "                                        command=textfeld_loeschen)\n",
    "\n",
    "print(\"fertig\")"
   ]
  },
  {
   "cell_type": "code",
   "execution_count": 30,
   "metadata": {},
   "outputs": [],
   "source": [
    "fusszeile_label = tk.Label(win, text=f'Programmversion {pro_version} - by Marcus Keil',\n",
    "                           bg=hintergrundfarbe)"
   ]
  },
  {
   "cell_type": "code",
   "execution_count": 31,
   "metadata": {},
   "outputs": [
    {
     "name": "stdout",
     "output_type": "stream",
     "text": [
      "fertig\n"
     ]
    }
   ],
   "source": [
    "# position\n",
    "kurzerklaerung_label.pack(pady=10)\n",
    "textfeld_label.pack(pady=10)\n",
    "textfeld_eingabe.pack(pady=10)\n",
    "scrollbar.place(x=415, y=115, width=15, height=163)\n",
    "dateiname_label.place(x=100, y=298)\n",
    "dateiname_eingabe.place(x=170, y=300)\n",
    "eingabefeld_loeschen_button.place(x=160, y=370)#(x=330, y=300)\n",
    "erklaerung_fenster_button.place(x=50, y=450)\n",
    "close_button.place(x=400, y=450)\n",
    "create_button.place(x=280, y=375)\n",
    "textfeld_loeschen_button.place(x=50, y=370)\n",
    "ordner_oeffnen_button.place(x=378, y=375)\n",
    "fusszeile_label.pack(side='bottom')\n",
    "image_label.place(x=8, y=10)\n",
    "print(\"fertig\")"
   ]
  },
  {
   "cell_type": "code",
   "execution_count": 32,
   "metadata": {},
   "outputs": [],
   "source": [
    "win.mainloop()"
   ]
  }
 ],
 "metadata": {
  "kernelspec": {
   "display_name": "Python 3",
   "language": "python",
   "name": "python3"
  },
  "language_info": {
   "codemirror_mode": {
    "name": "ipython",
    "version": 3
   },
   "file_extension": ".py",
   "mimetype": "text/x-python",
   "name": "python",
   "nbconvert_exporter": "python",
   "pygments_lexer": "ipython3",
   "version": "3.11.1"
  },
  "orig_nbformat": 4
 },
 "nbformat": 4,
 "nbformat_minor": 2
}
